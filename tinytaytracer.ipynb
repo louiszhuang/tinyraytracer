{
 "cells": [
  {
   "cell_type": "code",
   "execution_count": 125,
   "metadata": {},
   "outputs": [],
   "source": [
    "#%pip install -U torch matplotlib\n",
    "import torch as pt\n",
    "import matplotlib.pyplot as plt\n",
    "from functools import partial\n",
    "from enum import IntEnum\n",
    "from collections import namedtuple"
   ]
  },
  {
   "cell_type": "code",
   "execution_count": 2,
   "metadata": {},
   "outputs": [
    {
     "data": {
      "text/plain": [
       "<matplotlib.image.AxesImage at 0x2d2f452ed90>"
      ]
     },
     "execution_count": 2,
     "metadata": {},
     "output_type": "execute_result"
    },
    {
     "data": {
      "image/png": "[encoded data removed]",
      "text/plain": [
       "<Figure size 640x480 with 1 Axes>"
      ]
     },
     "metadata": {},
     "output_type": "display_data"
    }
   ],
   "source": [
    "plt.imshow([[[j,i,0] for i in range(256)] for j in range(256)])"
   ]
  },
  {
   "cell_type": "code",
   "execution_count": 135,
   "metadata": {},
   "outputs": [
    {
     "data": {
      "text/plain": [
       "(Material(refractive_index=[], albedo=[], diffuse_color=tensor([[0.4000, 0.4000, 0.3000],\n",
       "         [0.6000, 0.7000, 0.8000],\n",
       "         [0.3000, 0.1000, 0.1000],\n",
       "         [1.0000, 1.0000, 1.0000]]), specular_exponent=[]),\n",
       " Sphere(center=tensor([[ -3.0000,   0.0000, -16.0000],\n",
       "         [ -1.0000,  -1.5000, -12.0000],\n",
       "         [  1.5000,  -0.5000, -18.0000],\n",
       "         [  7.0000,   5.0000, -18.0000]]), radius=tensor([2., 2., 3., 4.]), material=tensor([0, 1, 2, 3])))"
      ]
     },
     "execution_count": 135,
     "metadata": {},
     "output_type": "execute_result"
    }
   ],
   "source": [
    "Material = namedtuple('Material', ['refractive_index', 'albedo', 'diffuse_color', 'specular_exponent'])\n",
    "Sphere = namedtuple('Sphere', ['center', 'radius', 'material'])\n",
    "# IVORY, GLASS, RED_RUBBER, MIRROR\n",
    "material = Material([],[],pt.tensor([[.4,.4,.3],[.6,.7,.8],[.3,.1,.1],[1,1,1]]),[])\n",
    "sphere = Sphere(pt.tensor([[-3,0,-16],[-1,-1.5,-12],[1.5,-.5,-18],[7,5,-18]]),\n",
    "                pt.tensor([2.,2,3,4]),\n",
    "                pt.tensor([0,1,2,3]))\n",
    "material,sphere"
   ]
  },
  {
   "cell_type": "code",
   "execution_count": 178,
   "metadata": {},
   "outputs": [
    {
     "data": {
      "text/plain": [
       "(tensor([False,  True,  True, False]),\n",
       " tensor([    inf, 11.1340, 15.4505,     inf]))"
      ]
     },
     "execution_count": 178,
     "metadata": {},
     "output_type": "execute_result"
    }
   ],
   "source": [
    "\n",
    "def ray_intersect(orig, dir, center, raduis):\n",
    "    oc = center - orig\n",
    "    l2 = oc@oc\n",
    "    ip = oc@dir\n",
    "    p2 = ip*ip/(dir@dir)\n",
    "    r2 = raduis*raduis\n",
    "    hit = (ip>0) & (l2 - p2 < r2) & (r2 < l2)\n",
    "    return hit, pt.where(hit, pt.sqrt(p2)-pt.sqrt(r2-(l2-p2)), pt.inf)\n",
    "(True, 30.)==ray_intersect(pt.tensor([0.,0.,0.]), pt.tensor([0.,12.*35/37,-35.*35/37]), pt.tensor([0.,0.,-37.]), 13.)\n",
    "pt.vmap(partial(ray_intersect, pt.tensor([0.,0,0]), pt.tensor([0.,0,-1])))(sphere.center, sphere.radius)"
   ]
  },
  {
   "cell_type": "code",
   "execution_count": 235,
   "metadata": {},
   "outputs": [
    {
     "data": {
      "text/plain": [
       "(tensor([True]), tensor([1]))"
      ]
     },
     "execution_count": 235,
     "metadata": {},
     "output_type": "execute_result"
    }
   ],
   "source": [
    "def scene_intersect(orig, dir, scene):\n",
    "    hit, dist = pt.vmap(partial(ray_intersect, orig, dir))(scene.center, scene.radius)\n",
    "    nearest_idx = dist.argmin(keepdim=True)\n",
    "    #return hit, dist, nearest_idx\n",
    "    return hit[nearest_idx], scene.material[nearest_idx]\n",
    "scene_intersect(pt.tensor([0.,0,0]), pt.tensor([0.,0,-1]), sphere)\n",
    "#pt.vmap(partial(scene_intersect, pt.tensor([0.,0.,0.]), scene = sphere))(pt.tensor([[0.,0,-1]]))"
   ]
  },
  {
   "cell_type": "code",
   "execution_count": 236,
   "metadata": {},
   "outputs": [
    {
     "data": {
      "text/plain": [
       "tensor([[0.6000, 0.7000, 0.8000]])"
      ]
     },
     "execution_count": 236,
     "metadata": {},
     "output_type": "execute_result"
    }
   ],
   "source": [
    "def cast_ray(orig, dir, scene, material):\n",
    "    hit, idx = scene_intersect(orig, dir, scene)\n",
    "    return pt.where(hit, material.diffuse_color[idx], pt.tensor([0.2,0.7,0.8]))\n",
    "cast_ray(pt.tensor([0.,0,0]), pt.tensor([0.,0,-1]), sphere, material)\n",
    "pt.vmap(partial(cast_ray, pt.tensor([0.,0.,0.]), scene = sphere, material=material))()"
   ]
  },
  {
   "cell_type": "code",
   "execution_count": 229,
   "metadata": {},
   "outputs": [
    {
     "data": {
      "text/plain": [
       "tensor([[True]])"
      ]
     },
     "execution_count": 229,
     "metadata": {},
     "output_type": "execute_result"
    }
   ],
   "source": [
    "pt.tensor([[False,  True,  True, False]])[:,pt.tensor([1])]"
   ]
  },
  {
   "cell_type": "code",
   "execution_count": 192,
   "metadata": {},
   "outputs": [],
   "source": [
    "def make_frame(weight,height):\n",
    "    ratio = height/weight\n",
    "    return pt.stack([pt.tile(pt.linspace(-1,1,weight), (height,1)),pt.tile(pt.linspace(ratio,-ratio,height).reshape(height,1), (weight,)),pt.tile(pt.tensor(-1), (height,weight))],2)"
   ]
  },
  {
   "cell_type": "code",
   "execution_count": 193,
   "metadata": {},
   "outputs": [],
   "source": [
    "weight=7680\n",
    "height=4320\n",
    "frame=make_frame(weight,height)\n",
    "fc = partial(cast_ray, pt.tensor([0.,0.,0.]), scene = sphere, material=material)"
   ]
  },
  {
   "cell_type": "code",
   "execution_count": 194,
   "metadata": {},
   "outputs": [
    {
     "ename": "RuntimeError",
     "evalue": "vmap: It looks like you're calling .item() on a Tensor. We don't support vmap over calling .item() on a Tensor, please try to rewrite what you're doing with other operations. If error is occurring somewhere inside PyTorch internals, please file a bug report.",
     "output_type": "error",
     "traceback": [
      "\u001b[1;31m---------------------------------------------------------------------------\u001b[0m",
      "\u001b[1;31mRuntimeError\u001b[0m                              Traceback (most recent call last)",
      "Cell \u001b[1;32mIn[194], line 1\u001b[0m\n\u001b[1;32m----> 1\u001b[0m img\u001b[38;5;241m=\u001b[39m\u001b[43mpt\u001b[49m\u001b[38;5;241;43m.\u001b[39;49m\u001b[43mvmap\u001b[49m\u001b[43m(\u001b[49m\u001b[43mfc\u001b[49m\u001b[43m)\u001b[49m\u001b[43m(\u001b[49m\u001b[43mframe\u001b[49m\u001b[38;5;241;43m.\u001b[39;49m\u001b[43mreshape\u001b[49m\u001b[43m(\u001b[49m\u001b[43mweight\u001b[49m\u001b[38;5;241;43m*\u001b[39;49m\u001b[43mheight\u001b[49m\u001b[43m,\u001b[49m\u001b[38;5;241;43m3\u001b[39;49m\u001b[43m)\u001b[49m\u001b[43m)\u001b[49m\u001b[38;5;241m.\u001b[39mreshape(height,weight,\u001b[38;5;241m3\u001b[39m)\n",
      "File \u001b[1;32mc:\\opt\\py311\\Lib\\site-packages\\torch\\_functorch\\apis.py:188\u001b[0m, in \u001b[0;36mvmap.<locals>.wrapped\u001b[1;34m(*args, **kwargs)\u001b[0m\n\u001b[0;32m    187\u001b[0m \u001b[38;5;28;01mdef\u001b[39;00m \u001b[38;5;21mwrapped\u001b[39m(\u001b[38;5;241m*\u001b[39margs, \u001b[38;5;241m*\u001b[39m\u001b[38;5;241m*\u001b[39mkwargs):\n\u001b[1;32m--> 188\u001b[0m     \u001b[38;5;28;01mreturn\u001b[39;00m \u001b[43mvmap_impl\u001b[49m\u001b[43m(\u001b[49m\u001b[43mfunc\u001b[49m\u001b[43m,\u001b[49m\u001b[43m \u001b[49m\u001b[43min_dims\u001b[49m\u001b[43m,\u001b[49m\u001b[43m \u001b[49m\u001b[43mout_dims\u001b[49m\u001b[43m,\u001b[49m\u001b[43m \u001b[49m\u001b[43mrandomness\u001b[49m\u001b[43m,\u001b[49m\u001b[43m \u001b[49m\u001b[43mchunk_size\u001b[49m\u001b[43m,\u001b[49m\u001b[43m \u001b[49m\u001b[38;5;241;43m*\u001b[39;49m\u001b[43margs\u001b[49m\u001b[43m,\u001b[49m\u001b[43m \u001b[49m\u001b[38;5;241;43m*\u001b[39;49m\u001b[38;5;241;43m*\u001b[39;49m\u001b[43mkwargs\u001b[49m\u001b[43m)\u001b[49m\n",
      "File \u001b[1;32mc:\\opt\\py311\\Lib\\site-packages\\torch\\_functorch\\vmap.py:266\u001b[0m, in \u001b[0;36mvmap_impl\u001b[1;34m(func, in_dims, out_dims, randomness, chunk_size, *args, **kwargs)\u001b[0m\n\u001b[0;32m    262\u001b[0m     \u001b[38;5;28;01mreturn\u001b[39;00m _chunked_vmap(func, flat_in_dims, chunks_flat_args,\n\u001b[0;32m    263\u001b[0m                          args_spec, out_dims, randomness, \u001b[38;5;241m*\u001b[39m\u001b[38;5;241m*\u001b[39mkwargs)\n\u001b[0;32m    265\u001b[0m \u001b[38;5;66;03m# If chunk_size is not specified.\u001b[39;00m\n\u001b[1;32m--> 266\u001b[0m \u001b[38;5;28;01mreturn\u001b[39;00m \u001b[43m_flat_vmap\u001b[49m\u001b[43m(\u001b[49m\n\u001b[0;32m    267\u001b[0m \u001b[43m    \u001b[49m\u001b[43mfunc\u001b[49m\u001b[43m,\u001b[49m\u001b[43m \u001b[49m\u001b[43mbatch_size\u001b[49m\u001b[43m,\u001b[49m\u001b[43m \u001b[49m\u001b[43mflat_in_dims\u001b[49m\u001b[43m,\u001b[49m\u001b[43m \u001b[49m\u001b[43mflat_args\u001b[49m\u001b[43m,\u001b[49m\u001b[43m \u001b[49m\u001b[43margs_spec\u001b[49m\u001b[43m,\u001b[49m\u001b[43m \u001b[49m\u001b[43mout_dims\u001b[49m\u001b[43m,\u001b[49m\u001b[43m \u001b[49m\u001b[43mrandomness\u001b[49m\u001b[43m,\u001b[49m\u001b[43m \u001b[49m\u001b[38;5;241;43m*\u001b[39;49m\u001b[38;5;241;43m*\u001b[39;49m\u001b[43mkwargs\u001b[49m\n\u001b[0;32m    268\u001b[0m \u001b[43m\u001b[49m\u001b[43m)\u001b[49m\n",
      "File \u001b[1;32mc:\\opt\\py311\\Lib\\site-packages\\torch\\_functorch\\vmap.py:38\u001b[0m, in \u001b[0;36mdoesnt_support_saved_tensors_hooks.<locals>.fn\u001b[1;34m(*args, **kwargs)\u001b[0m\n\u001b[0;32m     35\u001b[0m \u001b[38;5;129m@functools\u001b[39m\u001b[38;5;241m.\u001b[39mwraps(f)\n\u001b[0;32m     36\u001b[0m \u001b[38;5;28;01mdef\u001b[39;00m \u001b[38;5;21mfn\u001b[39m(\u001b[38;5;241m*\u001b[39margs, \u001b[38;5;241m*\u001b[39m\u001b[38;5;241m*\u001b[39mkwargs):\n\u001b[0;32m     37\u001b[0m     \u001b[38;5;28;01mwith\u001b[39;00m torch\u001b[38;5;241m.\u001b[39mautograd\u001b[38;5;241m.\u001b[39mgraph\u001b[38;5;241m.\u001b[39mdisable_saved_tensors_hooks(message):\n\u001b[1;32m---> 38\u001b[0m         \u001b[38;5;28;01mreturn\u001b[39;00m \u001b[43mf\u001b[49m\u001b[43m(\u001b[49m\u001b[38;5;241;43m*\u001b[39;49m\u001b[43margs\u001b[49m\u001b[43m,\u001b[49m\u001b[43m \u001b[49m\u001b[38;5;241;43m*\u001b[39;49m\u001b[38;5;241;43m*\u001b[39;49m\u001b[43mkwargs\u001b[49m\u001b[43m)\u001b[49m\n",
      "File \u001b[1;32mc:\\opt\\py311\\Lib\\site-packages\\torch\\_functorch\\vmap.py:379\u001b[0m, in \u001b[0;36m_flat_vmap\u001b[1;34m(func, batch_size, flat_in_dims, flat_args, args_spec, out_dims, randomness, **kwargs)\u001b[0m\n\u001b[0;32m    377\u001b[0m \u001b[38;5;28;01mtry\u001b[39;00m:\n\u001b[0;32m    378\u001b[0m     batched_inputs \u001b[38;5;241m=\u001b[39m _create_batched_inputs(flat_in_dims, flat_args, vmap_level, args_spec)\n\u001b[1;32m--> 379\u001b[0m     batched_outputs \u001b[38;5;241m=\u001b[39m \u001b[43mfunc\u001b[49m\u001b[43m(\u001b[49m\u001b[38;5;241;43m*\u001b[39;49m\u001b[43mbatched_inputs\u001b[49m\u001b[43m,\u001b[49m\u001b[43m \u001b[49m\u001b[38;5;241;43m*\u001b[39;49m\u001b[38;5;241;43m*\u001b[39;49m\u001b[43mkwargs\u001b[49m\u001b[43m)\u001b[49m\n\u001b[0;32m    380\u001b[0m     \u001b[38;5;28;01mreturn\u001b[39;00m _unwrap_batched(batched_outputs, out_dims, vmap_level, batch_size, func)\n\u001b[0;32m    381\u001b[0m \u001b[38;5;28;01mfinally\u001b[39;00m:\n",
      "Cell \u001b[1;32mIn[191], line 2\u001b[0m, in \u001b[0;36mcast_ray\u001b[1;34m(orig, dir, scene, material)\u001b[0m\n\u001b[0;32m      1\u001b[0m \u001b[38;5;28;01mdef\u001b[39;00m \u001b[38;5;21mcast_ray\u001b[39m(orig, \u001b[38;5;28mdir\u001b[39m, scene, material):\n\u001b[1;32m----> 2\u001b[0m     hit, mat_idx \u001b[38;5;241m=\u001b[39m \u001b[43mscene_intersect\u001b[49m\u001b[43m(\u001b[49m\u001b[43morig\u001b[49m\u001b[43m,\u001b[49m\u001b[43m \u001b[49m\u001b[38;5;28;43mdir\u001b[39;49m\u001b[43m,\u001b[49m\u001b[43m \u001b[49m\u001b[43mscene\u001b[49m\u001b[43m)\u001b[49m\n\u001b[0;32m      3\u001b[0m     \u001b[38;5;28;01mreturn\u001b[39;00m pt\u001b[38;5;241m.\u001b[39mwhere(hit, material\u001b[38;5;241m.\u001b[39mdiffuse_color[mat_idx], pt\u001b[38;5;241m.\u001b[39mtensor([\u001b[38;5;241m0.2\u001b[39m,\u001b[38;5;241m0.7\u001b[39m,\u001b[38;5;241m0.8\u001b[39m]))\n",
      "Cell \u001b[1;32mIn[186], line 4\u001b[0m, in \u001b[0;36mscene_intersect\u001b[1;34m(orig, dir, scene)\u001b[0m\n\u001b[0;32m      2\u001b[0m hit, dist \u001b[38;5;241m=\u001b[39m pt\u001b[38;5;241m.\u001b[39mvmap(partial(ray_intersect, orig, \u001b[38;5;28mdir\u001b[39m))(scene\u001b[38;5;241m.\u001b[39mcenter, scene\u001b[38;5;241m.\u001b[39mradius)\n\u001b[0;32m      3\u001b[0m nearest_idx \u001b[38;5;241m=\u001b[39m dist\u001b[38;5;241m.\u001b[39margmin()\n\u001b[1;32m----> 4\u001b[0m \u001b[38;5;28;01mreturn\u001b[39;00m \u001b[43mhit\u001b[49m\u001b[43m[\u001b[49m\u001b[43mnearest_idx\u001b[49m\u001b[43m]\u001b[49m, scene\u001b[38;5;241m.\u001b[39mmaterial[nearest_idx]\n",
      "\u001b[1;31mRuntimeError\u001b[0m: vmap: It looks like you're calling .item() on a Tensor. We don't support vmap over calling .item() on a Tensor, please try to rewrite what you're doing with other operations. If error is occurring somewhere inside PyTorch internals, please file a bug report."
     ]
    }
   ],
   "source": [
    "img=pt.vmap(fc)(frame.reshape(weight*height,3)).reshape(height,weight,3)"
   ]
  },
  {
   "cell_type": "code",
   "execution_count": 95,
   "metadata": {},
   "outputs": [
    {
     "data": {
      "text/plain": [
       "<matplotlib.image.AxesImage at 0x2d2821f0910>"
      ]
     },
     "execution_count": 95,
     "metadata": {},
     "output_type": "execute_result"
    },
    {
     "data": {
      "image/png": "[encoded data removed]",
      "text/plain": [
       "<Figure size 640x480 with 1 Axes>"
      ]
     },
     "metadata": {},
     "output_type": "display_data"
    }
   ],
   "source": [
    "plt.imshow(img)"
   ]
  },
  {
   "cell_type": "code",
   "execution_count": null,
   "metadata": {},
   "outputs": [],
   "source": []
  }
 ],
 "metadata": {
  "kernelspec": {
   "display_name": "py311",
   "language": "python",
   "name": "python3"
  },
  "language_info": {
   "codemirror_mode": {
    "name": "ipython",
    "version": 3
   },
   "file_extension": ".py",
   "mimetype": "text/x-python",
   "name": "python",
   "nbconvert_exporter": "python",
   "pygments_lexer": "ipython3",
   "version": "3.11.7"
  }
 },
 "nbformat": 4,
 "nbformat_minor": 2
}
